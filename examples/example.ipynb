{
 "cells": [
  {
   "cell_type": "markdown",
   "metadata": {},
   "source": [
    "# Request Examples"
   ]
  },
  {
   "cell_type": "markdown",
   "metadata": {},
   "source": [
    "## Example #1 - Add Record"
   ]
  },
  {
   "cell_type": "code",
   "execution_count": 4,
   "metadata": {},
   "outputs": [
    {
     "name": "stdout",
     "output_type": "stream",
     "text": [
      "{'id': '1739', 'revision': '1'}\n"
     ]
    }
   ],
   "source": [
    "import os\n",
    "\n",
    "from kintone_rest_client import Client\n",
    "\n",
    "kintone = Client(\n",
    "  base_url=os.environ.get('KINTONE_BASE_URL'),\n",
    "  auth={\n",
    "    'username': os.environ.get('KINTONE_USERNAME'),\n",
    "    'password': os.environ.get('KINTONE_PASSWORD')\n",
    "  }\n",
    ")\n",
    "app = 759\n",
    "\n",
    "params={\n",
    "  'app': app,\n",
    "  'record': {\n",
    "    'Company_Name': {\n",
    "      'value': 'Cybozu Inc.,'\n",
    "    }\n",
    "  }\n",
    "}\n",
    "response = kintone.Record.add_record(params)\n",
    "print(response)"
   ]
  },
  {
   "cell_type": "markdown",
   "metadata": {},
   "source": [
    "## Example #2 - Add Records"
   ]
  },
  {
   "cell_type": "code",
   "execution_count": 5,
   "metadata": {},
   "outputs": [
    {
     "name": "stdout",
     "output_type": "stream",
     "text": [
      "{'ids': ['1740'], 'revisions': ['1']}\n"
     ]
    }
   ],
   "source": [
    "import os\n",
    "\n",
    "from kintone_rest_client import Client\n",
    "\n",
    "kintone = Client(\n",
    "  base_url=os.environ.get('KINTONE_BASE_URL'),\n",
    "  auth={\n",
    "    'username': os.environ.get('KINTONE_USERNAME'),\n",
    "    'password': os.environ.get('KINTONE_PASSWORD')\n",
    "  }\n",
    ")\n",
    "app = 759\n",
    "\n",
    "params={\n",
    "  'app': app,\n",
    "  'records': [{\n",
    "    'Company_Name': {\n",
    "      'value': 'Cybozu Inc.,'\n",
    "    }\n",
    "  }]\n",
    "}\n",
    "response = kintone.Record.add_records(params)\n",
    "print(response)"
   ]
  },
  {
   "cell_type": "markdown",
   "metadata": {},
   "source": [
    "## Example #3 - Add All Records"
   ]
  },
  {
   "cell_type": "code",
   "execution_count": 6,
   "metadata": {},
   "outputs": [
    {
     "name": "stdout",
     "output_type": "stream",
     "text": [
      "{'ids': ['1741', '1742', '1743', '1744', '1745', '1746', '1747', '1748', '1749', '1750', '1751', '1752', '1753', '1754', '1755', '1756', '1757', '1758', '1759', '1760', '1761', '1762', '1763', '1764', '1765', '1766', '1767', '1768', '1769', '1770', '1771', '1772', '1773', '1774', '1775', '1776', '1777', '1778', '1779', '1780', '1781', '1782', '1783', '1784', '1785', '1786', '1787', '1788', '1789', '1790', '1791', '1792', '1793', '1794', '1795', '1796', '1797', '1798', '1799', '1800', '1801', '1802', '1803', '1804', '1805', '1806', '1807', '1808', '1809', '1810', '1811', '1812', '1813', '1814', '1815', '1816', '1817', '1818', '1819', '1820', '1821', '1822', '1823', '1824', '1825', '1826', '1827', '1828', '1829', '1830', '1831', '1832', '1833', '1834', '1835', '1836', '1837', '1838', '1839', '1840', '1841', '1842', '1843', '1844', '1845', '1846', '1847', '1848', '1849', '1850', '1851', '1852', '1853', '1854', '1855', '1856', '1857', '1858', '1859', '1860', '1861', '1862', '1863', '1864', '1865', '1866', '1867', '1868', '1869', '1870', '1871', '1872', '1873', '1874', '1875', '1876', '1877', '1878', '1879', '1880', '1881', '1882', '1883', '1884', '1885', '1886', '1887', '1888', '1889', '1890'], 'revisions': ['1', '1', '1', '1', '1', '1', '1', '1', '1', '1', '1', '1', '1', '1', '1', '1', '1', '1', '1', '1', '1', '1', '1', '1', '1', '1', '1', '1', '1', '1', '1', '1', '1', '1', '1', '1', '1', '1', '1', '1', '1', '1', '1', '1', '1', '1', '1', '1', '1', '1', '1', '1', '1', '1', '1', '1', '1', '1', '1', '1', '1', '1', '1', '1', '1', '1', '1', '1', '1', '1', '1', '1', '1', '1', '1', '1', '1', '1', '1', '1', '1', '1', '1', '1', '1', '1', '1', '1', '1', '1', '1', '1', '1', '1', '1', '1', '1', '1', '1', '1', '1', '1', '1', '1', '1', '1', '1', '1', '1', '1', '1', '1', '1', '1', '1', '1', '1', '1', '1', '1', '1', '1', '1', '1', '1', '1', '1', '1', '1', '1', '1', '1', '1', '1', '1', '1', '1', '1', '1', '1', '1', '1', '1', '1', '1', '1', '1', '1', '1', '1']}\n"
     ]
    }
   ],
   "source": [
    "import os\n",
    "\n",
    "from kintone_rest_client import Client\n",
    "\n",
    "kintone = Client(\n",
    "  base_url=os.environ.get('KINTONE_BASE_URL'),\n",
    "  auth={\n",
    "    'username': os.environ.get('KINTONE_USERNAME'),\n",
    "    'password': os.environ.get('KINTONE_PASSWORD')\n",
    "  }\n",
    ")\n",
    "app = 759\n",
    "records_len = 150\n",
    "\n",
    "records = []\n",
    "for i in range(records_len):\n",
    "  records.append({\n",
    "    'Company_Name': {\n",
    "      'value': f'Cybozu Inc., - {i}'\n",
    "    }\n",
    "  })\n",
    "\n",
    "params={\n",
    "  'app': app,\n",
    "  'records': records\n",
    "}\n",
    "response = kintone.Record.add_all_records(params)\n",
    "print(response)"
   ]
  },
  {
   "cell_type": "markdown",
   "metadata": {},
   "source": [
    "## Example #4 - Update Record"
   ]
  },
  {
   "cell_type": "code",
   "execution_count": 7,
   "metadata": {},
   "outputs": [
    {
     "name": "stdout",
     "output_type": "stream",
     "text": [
      "{'revision': '2'}\n"
     ]
    }
   ],
   "source": [
    "import os\n",
    "\n",
    "from kintone_rest_client import Client\n",
    "\n",
    "kintone = Client(\n",
    "  base_url=os.environ.get('KINTONE_BASE_URL'),\n",
    "  auth={\n",
    "    'username': os.environ.get('KINTONE_USERNAME'),\n",
    "    'password': os.environ.get('KINTONE_PASSWORD')\n",
    "  }\n",
    ")\n",
    "app = 759\n",
    "record_id = 1741\n",
    "\n",
    "params={\n",
    "  'app': app,\n",
    "  'id': record_id,\n",
    "  'record': {\n",
    "    'Company_Name': {\n",
    "      'value': 'Kintone Corporation'\n",
    "    }\n",
    "  }\n",
    "}\n",
    "response = kintone.Record.update_record(params)\n",
    "print(response)"
   ]
  },
  {
   "cell_type": "markdown",
   "metadata": {},
   "source": [
    "## Example #5 - Update Records"
   ]
  },
  {
   "cell_type": "code",
   "execution_count": 8,
   "metadata": {},
   "outputs": [
    {
     "name": "stdout",
     "output_type": "stream",
     "text": [
      "{'records': [{'id': '1741', 'revision': '3'}]}\n"
     ]
    }
   ],
   "source": [
    "import os\n",
    "\n",
    "from kintone_rest_client import Client\n",
    "\n",
    "kintone = Client(\n",
    "  base_url=os.environ.get('KINTONE_BASE_URL'),\n",
    "  auth={\n",
    "    'username': os.environ.get('KINTONE_USERNAME'),\n",
    "    'password': os.environ.get('KINTONE_PASSWORD')\n",
    "  }\n",
    ")\n",
    "app = 759\n",
    "record_id = 1741\n",
    "\n",
    "params={\n",
    "  'app': app,\n",
    "  'records': [{\n",
    "    'id': record_id,\n",
    "    'record': {\n",
    "      'Company_Name': {\n",
    "        'value': 'Kintone Corporation'\n",
    "      }\n",
    "    }\n",
    "  }]\n",
    "}\n",
    "response = kintone.Record.update_records(params)\n",
    "print(response)"
   ]
  },
  {
   "cell_type": "markdown",
   "metadata": {},
   "source": [
    "## Example #6 - Update All Records"
   ]
  },
  {
   "cell_type": "code",
   "execution_count": 9,
   "metadata": {},
   "outputs": [
    {
     "name": "stdout",
     "output_type": "stream",
     "text": [
      "{'records': [{'id': '1741', 'revision': '4'}, {'id': '1742', 'revision': '2'}, {'id': '1743', 'revision': '2'}, {'id': '1744', 'revision': '2'}, {'id': '1745', 'revision': '2'}, {'id': '1746', 'revision': '2'}, {'id': '1747', 'revision': '2'}, {'id': '1748', 'revision': '2'}, {'id': '1749', 'revision': '2'}, {'id': '1750', 'revision': '2'}, {'id': '1751', 'revision': '2'}, {'id': '1752', 'revision': '2'}, {'id': '1753', 'revision': '2'}, {'id': '1754', 'revision': '2'}, {'id': '1755', 'revision': '2'}, {'id': '1756', 'revision': '2'}, {'id': '1757', 'revision': '2'}, {'id': '1758', 'revision': '2'}, {'id': '1759', 'revision': '2'}, {'id': '1760', 'revision': '2'}, {'id': '1761', 'revision': '2'}, {'id': '1762', 'revision': '2'}, {'id': '1763', 'revision': '2'}, {'id': '1764', 'revision': '2'}, {'id': '1765', 'revision': '2'}, {'id': '1766', 'revision': '2'}, {'id': '1767', 'revision': '2'}, {'id': '1768', 'revision': '2'}, {'id': '1769', 'revision': '2'}, {'id': '1770', 'revision': '2'}, {'id': '1771', 'revision': '2'}, {'id': '1772', 'revision': '2'}, {'id': '1773', 'revision': '2'}, {'id': '1774', 'revision': '2'}, {'id': '1775', 'revision': '2'}, {'id': '1776', 'revision': '2'}, {'id': '1777', 'revision': '2'}, {'id': '1778', 'revision': '2'}, {'id': '1779', 'revision': '2'}, {'id': '1780', 'revision': '2'}, {'id': '1781', 'revision': '2'}, {'id': '1782', 'revision': '2'}, {'id': '1783', 'revision': '2'}, {'id': '1784', 'revision': '2'}, {'id': '1785', 'revision': '2'}, {'id': '1786', 'revision': '2'}, {'id': '1787', 'revision': '2'}, {'id': '1788', 'revision': '2'}, {'id': '1789', 'revision': '2'}, {'id': '1790', 'revision': '2'}, {'id': '1791', 'revision': '2'}, {'id': '1792', 'revision': '2'}, {'id': '1793', 'revision': '2'}, {'id': '1794', 'revision': '2'}, {'id': '1795', 'revision': '2'}, {'id': '1796', 'revision': '2'}, {'id': '1797', 'revision': '2'}, {'id': '1798', 'revision': '2'}, {'id': '1799', 'revision': '2'}, {'id': '1800', 'revision': '2'}, {'id': '1801', 'revision': '2'}, {'id': '1802', 'revision': '2'}, {'id': '1803', 'revision': '2'}, {'id': '1804', 'revision': '2'}, {'id': '1805', 'revision': '2'}, {'id': '1806', 'revision': '2'}, {'id': '1807', 'revision': '2'}, {'id': '1808', 'revision': '2'}, {'id': '1809', 'revision': '2'}, {'id': '1810', 'revision': '2'}, {'id': '1811', 'revision': '2'}, {'id': '1812', 'revision': '2'}, {'id': '1813', 'revision': '2'}, {'id': '1814', 'revision': '2'}, {'id': '1815', 'revision': '2'}, {'id': '1816', 'revision': '2'}, {'id': '1817', 'revision': '2'}, {'id': '1818', 'revision': '2'}, {'id': '1819', 'revision': '2'}, {'id': '1820', 'revision': '2'}, {'id': '1821', 'revision': '2'}, {'id': '1822', 'revision': '2'}, {'id': '1823', 'revision': '2'}, {'id': '1824', 'revision': '2'}, {'id': '1825', 'revision': '2'}, {'id': '1826', 'revision': '2'}, {'id': '1827', 'revision': '2'}, {'id': '1828', 'revision': '2'}, {'id': '1829', 'revision': '2'}, {'id': '1830', 'revision': '2'}, {'id': '1831', 'revision': '2'}, {'id': '1832', 'revision': '2'}, {'id': '1833', 'revision': '2'}, {'id': '1834', 'revision': '2'}, {'id': '1835', 'revision': '2'}, {'id': '1836', 'revision': '2'}, {'id': '1837', 'revision': '2'}, {'id': '1838', 'revision': '2'}, {'id': '1839', 'revision': '2'}, {'id': '1840', 'revision': '2'}, {'id': '1841', 'revision': '2'}, {'id': '1842', 'revision': '2'}, {'id': '1843', 'revision': '2'}, {'id': '1844', 'revision': '2'}, {'id': '1845', 'revision': '2'}, {'id': '1846', 'revision': '2'}, {'id': '1847', 'revision': '2'}, {'id': '1848', 'revision': '2'}, {'id': '1849', 'revision': '2'}, {'id': '1850', 'revision': '2'}, {'id': '1851', 'revision': '2'}, {'id': '1852', 'revision': '2'}, {'id': '1853', 'revision': '2'}, {'id': '1854', 'revision': '2'}, {'id': '1855', 'revision': '2'}, {'id': '1856', 'revision': '2'}, {'id': '1857', 'revision': '2'}, {'id': '1858', 'revision': '2'}, {'id': '1859', 'revision': '2'}, {'id': '1860', 'revision': '2'}, {'id': '1861', 'revision': '2'}, {'id': '1862', 'revision': '2'}, {'id': '1863', 'revision': '2'}, {'id': '1864', 'revision': '2'}, {'id': '1865', 'revision': '2'}, {'id': '1866', 'revision': '2'}, {'id': '1867', 'revision': '2'}, {'id': '1868', 'revision': '2'}, {'id': '1869', 'revision': '2'}, {'id': '1870', 'revision': '2'}, {'id': '1871', 'revision': '2'}, {'id': '1872', 'revision': '2'}, {'id': '1873', 'revision': '2'}, {'id': '1874', 'revision': '2'}, {'id': '1875', 'revision': '2'}, {'id': '1876', 'revision': '2'}, {'id': '1877', 'revision': '2'}, {'id': '1878', 'revision': '2'}, {'id': '1879', 'revision': '2'}, {'id': '1880', 'revision': '2'}, {'id': '1881', 'revision': '2'}, {'id': '1882', 'revision': '2'}, {'id': '1883', 'revision': '2'}, {'id': '1884', 'revision': '2'}, {'id': '1885', 'revision': '2'}, {'id': '1886', 'revision': '2'}, {'id': '1887', 'revision': '2'}, {'id': '1888', 'revision': '2'}, {'id': '1889', 'revision': '2'}, {'id': '1890', 'revision': '2'}]}\n"
     ]
    }
   ],
   "source": [
    "import os\n",
    "\n",
    "from kintone_rest_client import Client\n",
    "\n",
    "kintone = Client(\n",
    "  base_url=os.environ.get('KINTONE_BASE_URL'),\n",
    "  auth={\n",
    "    'username': os.environ.get('KINTONE_USERNAME'),\n",
    "    'password': os.environ.get('KINTONE_PASSWORD')\n",
    "  }\n",
    ")\n",
    "app = 759\n",
    "record_id = 1741\n",
    "records_len = 150\n",
    "\n",
    "records = []\n",
    "for i in range(records_len):\n",
    "  records.append({\n",
    "    'id': record_id + i,\n",
    "    'record': {\n",
    "      'Company_Name': {\n",
    "        'value': f'Kintone Corporation - {i}'\n",
    "      }\n",
    "    }\n",
    "  })\n",
    "\n",
    "params={\n",
    "  'app': app,\n",
    "  'records': records\n",
    "}\n",
    "response = kintone.Record.update_all_records(params)\n",
    "print(response)"
   ]
  },
  {
   "cell_type": "markdown",
   "metadata": {},
   "source": [
    "## Example #7 - Retrieve Records with $id"
   ]
  },
  {
   "cell_type": "code",
   "execution_count": 11,
   "metadata": {},
   "outputs": [
    {
     "name": "stdout",
     "output_type": "stream",
     "text": [
      "1532\n"
     ]
    }
   ],
   "source": [
    "from kintone_rest_client import Client\n",
    "\n",
    "kintone = Client(\n",
    "  base_url=os.environ.get('KINTONE_BASE_URL'),\n",
    "  auth={\n",
    "    'username': os.environ.get('KINTONE_USERNAME'),\n",
    "    'password': os.environ.get('KINTONE_PASSWORD')\n",
    "  }\n",
    ")\n",
    "app = 759\n",
    "\n",
    "params={\n",
    "  'app': app,\n",
    "  'fields': ['$revision']\n",
    "}\n",
    "response = kintone.Record.get_all_records_with_id(params)\n",
    "print(len(response['records']))"
   ]
  },
  {
   "cell_type": "markdown",
   "metadata": {},
   "source": [
    "## Example #8 - Upload File with File Path"
   ]
  },
  {
   "cell_type": "code",
   "execution_count": 12,
   "metadata": {},
   "outputs": [
    {
     "name": "stdout",
     "output_type": "stream",
     "text": [
      "{'fileKey': 'a715317a-de01-4e7b-8798-a9eded66ff2d'}\n"
     ]
    }
   ],
   "source": [
    "from kintone_rest_client import Client\n",
    "\n",
    "kintone = Client(\n",
    "  base_url=os.environ.get('KINTONE_BASE_URL'),\n",
    "  auth={\n",
    "    'username': os.environ.get('KINTONE_USERNAME'),\n",
    "    'password': os.environ.get('KINTONE_PASSWORD')\n",
    "  }\n",
    ")\n",
    "file_path = './logo.png'\n",
    "\n",
    "params={\n",
    "  'file': {\n",
    "    'path': file_path\n",
    "  }\n",
    "}\n",
    "response = kintone.File.upload_file(params)\n",
    "print(response)"
   ]
  },
  {
   "cell_type": "markdown",
   "metadata": {},
   "source": [
    "## Example #9 - Upload File with Data"
   ]
  },
  {
   "cell_type": "code",
   "execution_count": 13,
   "metadata": {},
   "outputs": [
    {
     "name": "stdout",
     "output_type": "stream",
     "text": [
      "{'fileKey': '876b6286-03d6-4a41-b23d-eca265a8e18f'}\n"
     ]
    }
   ],
   "source": [
    "import io\n",
    "from kintone_rest_client import Client\n",
    "\n",
    "kintone = Client(\n",
    "  base_url=os.environ.get('KINTONE_BASE_URL'),\n",
    "  auth={\n",
    "    'username': os.environ.get('KINTONE_USERNAME'),\n",
    "    'password': os.environ.get('KINTONE_PASSWORD')\n",
    "  }\n",
    ")\n",
    "file_path = './logo.png'\n",
    "\n",
    "params={\n",
    "  'file': {\n",
    "    'name': 'hello.txt',\n",
    "    'data': io.BytesIO(b'Hello, Python Kintone developer').read()\n",
    "  }\n",
    "}\n",
    "response = kintone.File.upload_file(params)\n",
    "print(response)"
   ]
  },
  {
   "cell_type": "markdown",
   "metadata": {},
   "source": [
    "## Example #10 - Download File"
   ]
  },
  {
   "cell_type": "code",
   "execution_count": 1,
   "metadata": {},
   "outputs": [
    {
     "name": "stdout",
     "output_type": "stream",
     "text": [
      "{'data': b'Hello, Python Kintone developer'}\n"
     ]
    }
   ],
   "source": [
    "import io\n",
    "from kintone_rest_client import Client\n",
    "\n",
    "kintone = Client(\n",
    "  base_url=os.environ.get('KINTONE_BASE_URL'),\n",
    "  auth={\n",
    "    'username': os.environ.get('KINTONE_USERNAME'),\n",
    "    'password': os.environ.get('KINTONE_PASSWORD')\n",
    "  }\n",
    ")\n",
    "file_key = '20210924194537F38439049CD548A890C30A4428C78675148'\n",
    "\n",
    "params={\n",
    "  'fileKey': file_key\n",
    "}\n",
    "response = kintone.File.download_file(params)\n",
    "print(response)"
   ]
  }
 ],
 "metadata": {
  "interpreter": {
   "hash": "e7370f93d1d0cde622a1f8e1c04877d8463912d04d973331ad4851f04de6915a"
  },
  "kernelspec": {
   "display_name": "Python 3.7.10 64-bit",
   "name": "python3"
  },
  "language_info": {
   "codemirror_mode": {
    "name": "ipython",
    "version": 3
   },
   "file_extension": ".py",
   "mimetype": "text/x-python",
   "name": "python",
   "nbconvert_exporter": "python",
   "pygments_lexer": "ipython3",
   "version": "3.7.10"
  },
  "orig_nbformat": 4
 },
 "nbformat": 4,
 "nbformat_minor": 2
}
