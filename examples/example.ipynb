{
 "cells": [
  {
   "cell_type": "markdown",
   "source": [
    "# Request Examples"
   ],
   "metadata": {}
  },
  {
   "cell_type": "markdown",
   "source": [
    "## Example #1 - Add Record"
   ],
   "metadata": {}
  },
  {
   "cell_type": "code",
   "execution_count": 1,
   "source": [
    "import os\n",
    "\n",
    "from kintone_rest_client import Client\n",
    "\n",
    "kintone = Client(\n",
    "  base_url=os.environ.get('KINTONE_BASE_URL'),\n",
    "  auth={\n",
    "    'username': os.environ.get('KINTONE_USERNAME'),\n",
    "    'password': os.environ.get('KINTONE_PASSWORD')\n",
    "  }\n",
    ")\n",
    "app = 759\n",
    "\n",
    "params={\n",
    "  'app': app,\n",
    "  'record': {\n",
    "    'Company_Name': {\n",
    "      'value': 'Cybozu Inc.,'\n",
    "    }\n",
    "  }\n",
    "}\n",
    "response = kintone.Record.add_record(params)\n",
    "print(response)"
   ],
   "outputs": [
    {
     "output_type": "stream",
     "name": "stdout",
     "text": [
      "{'id': '30', 'revision': '1'}\n"
     ]
    }
   ],
   "metadata": {}
  },
  {
   "cell_type": "markdown",
   "source": [
    "## Example #2 - Add Records"
   ],
   "metadata": {}
  },
  {
   "cell_type": "code",
   "execution_count": 2,
   "source": [
    "import os\n",
    "\n",
    "from kintone_rest_client import Client\n",
    "\n",
    "kintone = Client(\n",
    "  base_url=os.environ.get('KINTONE_BASE_URL'),\n",
    "  auth={\n",
    "    'username': os.environ.get('KINTONE_USERNAME'),\n",
    "    'password': os.environ.get('KINTONE_PASSWORD')\n",
    "  }\n",
    ")\n",
    "app = 759\n",
    "\n",
    "params={\n",
    "  'app': app,\n",
    "  'records': [{\n",
    "    'Company_Name': {\n",
    "      'value': 'Cybozu Inc.,'\n",
    "    }\n",
    "  }]\n",
    "}\n",
    "response = kintone.Record.add_records(params)\n",
    "print(response)"
   ],
   "outputs": [
    {
     "output_type": "stream",
     "name": "stdout",
     "text": [
      "{'ids': ['31'], 'revisions': ['1']}\n"
     ]
    }
   ],
   "metadata": {}
  },
  {
   "cell_type": "markdown",
   "source": [
    "## Example #3 - Update Record"
   ],
   "metadata": {}
  },
  {
   "cell_type": "code",
   "execution_count": 3,
   "source": [
    "import os\n",
    "\n",
    "from kintone_rest_client import Client\n",
    "\n",
    "kintone = Client(\n",
    "  base_url=os.environ.get('KINTONE_BASE_URL'),\n",
    "  auth={\n",
    "    'username': os.environ.get('KINTONE_USERNAME'),\n",
    "    'password': os.environ.get('KINTONE_PASSWORD')\n",
    "  }\n",
    ")\n",
    "app = 759\n",
    "record_id = 20\n",
    "\n",
    "params={\n",
    "  'app': app,\n",
    "  'id': record_id,\n",
    "  'record': {\n",
    "    'Company_Name': {\n",
    "      'value': 'Kintone Corporation'\n",
    "    }\n",
    "  }\n",
    "}\n",
    "response = kintone.Record.update_record(params)\n",
    "print(response)"
   ],
   "outputs": [
    {
     "output_type": "stream",
     "name": "stdout",
     "text": [
      "{'revision': '10'}\n"
     ]
    }
   ],
   "metadata": {}
  },
  {
   "cell_type": "markdown",
   "source": [
    "## Example #4 - Update Records"
   ],
   "metadata": {}
  },
  {
   "cell_type": "code",
   "execution_count": 4,
   "source": [
    "import os\n",
    "\n",
    "from kintone_rest_client import Client\n",
    "\n",
    "kintone = Client(\n",
    "  base_url=os.environ.get('KINTONE_BASE_URL'),\n",
    "  auth={\n",
    "    'username': os.environ.get('KINTONE_USERNAME'),\n",
    "    'password': os.environ.get('KINTONE_PASSWORD')\n",
    "  }\n",
    ")\n",
    "app = 759\n",
    "record_id = 20\n",
    "\n",
    "params={\n",
    "  'app': app,\n",
    "  'records': [{\n",
    "    'id': record_id,\n",
    "    'record': {\n",
    "      'Company_Name': {\n",
    "        'value': 'Kintone Corporation'\n",
    "      }\n",
    "    }\n",
    "  }]\n",
    "}\n",
    "response = kintone.Record.update_records(params)\n",
    "print(response)"
   ],
   "outputs": [
    {
     "output_type": "stream",
     "name": "stdout",
     "text": [
      "{'records': [{'id': '20', 'revision': '11'}]}\n"
     ]
    }
   ],
   "metadata": {}
  },
  {
   "cell_type": "markdown",
   "source": [
    "## Example #5 - Retrieve Records with $id"
   ],
   "metadata": {}
  },
  {
   "cell_type": "code",
   "execution_count": 6,
   "source": [
    "from kintone_rest_client import Client\n",
    "\n",
    "kintone = Client(\n",
    "  base_url=os.environ.get('KINTONE_BASE_URL'),\n",
    "  auth={\n",
    "    'username': os.environ.get('KINTONE_USERNAME'),\n",
    "    'password': os.environ.get('KINTONE_PASSWORD')\n",
    "  }\n",
    ")\n",
    "app = 759\n",
    "\n",
    "params={\n",
    "  'app': app,\n",
    "  'fields': ['$revision']\n",
    "}\n",
    "response = kintone.Record.get_all_records_with_id(params)\n",
    "print(response)"
   ],
   "outputs": [
    {
     "output_type": "stream",
     "name": "stdout",
     "text": [
      "{'records': [{'$revision': {'type': '__REVISION__', 'value': '1'}, '$id': {'type': '__ID__', 'value': '1'}}, {'$revision': {'type': '__REVISION__', 'value': '1'}, '$id': {'type': '__ID__', 'value': '2'}}, {'$revision': {'type': '__REVISION__', 'value': '1'}, '$id': {'type': '__ID__', 'value': '3'}}, {'$revision': {'type': '__REVISION__', 'value': '1'}, '$id': {'type': '__ID__', 'value': '4'}}, {'$revision': {'type': '__REVISION__', 'value': '1'}, '$id': {'type': '__ID__', 'value': '5'}}, {'$revision': {'type': '__REVISION__', 'value': '1'}, '$id': {'type': '__ID__', 'value': '6'}}, {'$revision': {'type': '__REVISION__', 'value': '1'}, '$id': {'type': '__ID__', 'value': '7'}}, {'$revision': {'type': '__REVISION__', 'value': '1'}, '$id': {'type': '__ID__', 'value': '8'}}, {'$revision': {'type': '__REVISION__', 'value': '1'}, '$id': {'type': '__ID__', 'value': '9'}}, {'$revision': {'type': '__REVISION__', 'value': '1'}, '$id': {'type': '__ID__', 'value': '10'}}, {'$revision': {'type': '__REVISION__', 'value': '1'}, '$id': {'type': '__ID__', 'value': '11'}}, {'$revision': {'type': '__REVISION__', 'value': '1'}, '$id': {'type': '__ID__', 'value': '12'}}, {'$revision': {'type': '__REVISION__', 'value': '1'}, '$id': {'type': '__ID__', 'value': '13'}}, {'$revision': {'type': '__REVISION__', 'value': '1'}, '$id': {'type': '__ID__', 'value': '14'}}, {'$revision': {'type': '__REVISION__', 'value': '1'}, '$id': {'type': '__ID__', 'value': '15'}}, {'$revision': {'type': '__REVISION__', 'value': '1'}, '$id': {'type': '__ID__', 'value': '16'}}, {'$revision': {'type': '__REVISION__', 'value': '1'}, '$id': {'type': '__ID__', 'value': '17'}}, {'$revision': {'type': '__REVISION__', 'value': '1'}, '$id': {'type': '__ID__', 'value': '18'}}, {'$revision': {'type': '__REVISION__', 'value': '2'}, '$id': {'type': '__ID__', 'value': '19'}}, {'$revision': {'type': '__REVISION__', 'value': '11'}, '$id': {'type': '__ID__', 'value': '20'}}, {'$revision': {'type': '__REVISION__', 'value': '1'}, '$id': {'type': '__ID__', 'value': '21'}}, {'$revision': {'type': '__REVISION__', 'value': '1'}, '$id': {'type': '__ID__', 'value': '22'}}, {'$revision': {'type': '__REVISION__', 'value': '1'}, '$id': {'type': '__ID__', 'value': '23'}}, {'$revision': {'type': '__REVISION__', 'value': '1'}, '$id': {'type': '__ID__', 'value': '24'}}, {'$revision': {'type': '__REVISION__', 'value': '1'}, '$id': {'type': '__ID__', 'value': '25'}}, {'$revision': {'type': '__REVISION__', 'value': '1'}, '$id': {'type': '__ID__', 'value': '26'}}, {'$revision': {'type': '__REVISION__', 'value': '1'}, '$id': {'type': '__ID__', 'value': '27'}}, {'$revision': {'type': '__REVISION__', 'value': '1'}, '$id': {'type': '__ID__', 'value': '28'}}, {'$revision': {'type': '__REVISION__', 'value': '1'}, '$id': {'type': '__ID__', 'value': '29'}}, {'$revision': {'type': '__REVISION__', 'value': '1'}, '$id': {'type': '__ID__', 'value': '30'}}, {'$revision': {'type': '__REVISION__', 'value': '1'}, '$id': {'type': '__ID__', 'value': '31'}}]}\n"
     ]
    }
   ],
   "metadata": {}
  },
  {
   "cell_type": "markdown",
   "source": [
    "## Example #6 - Upload File with File Path"
   ],
   "metadata": {}
  },
  {
   "cell_type": "code",
   "execution_count": 7,
   "source": [
    "from kintone_rest_client import Client\n",
    "\n",
    "kintone = Client(\n",
    "  base_url=os.environ.get('KINTONE_BASE_URL'),\n",
    "  auth={\n",
    "    'username': os.environ.get('KINTONE_USERNAME'),\n",
    "    'password': os.environ.get('KINTONE_PASSWORD')\n",
    "  }\n",
    ")\n",
    "file_path = './logo.png'\n",
    "\n",
    "params={\n",
    "  'file': {\n",
    "    'path': file_path\n",
    "  }\n",
    "}\n",
    "response = kintone.File.upload_file(params)\n",
    "print(response)"
   ],
   "outputs": [
    {
     "output_type": "stream",
     "name": "stdout",
     "text": [
      "{'fileKey': 'a4808181-3da4-43b2-984f-06e598a01b92'}\n"
     ]
    }
   ],
   "metadata": {}
  },
  {
   "cell_type": "markdown",
   "source": [
    "## Example #7 - Upload File with Data"
   ],
   "metadata": {}
  },
  {
   "cell_type": "code",
   "execution_count": 9,
   "source": [
    "import io\n",
    "from kintone_rest_client import Client\n",
    "\n",
    "kintone = Client(\n",
    "  base_url=os.environ.get('KINTONE_BASE_URL'),\n",
    "  auth={\n",
    "    'username': os.environ.get('KINTONE_USERNAME'),\n",
    "    'password': os.environ.get('KINTONE_PASSWORD')\n",
    "  }\n",
    ")\n",
    "file_path = './logo.png'\n",
    "\n",
    "params={\n",
    "  'file': {\n",
    "    'name': 'hello.txt',\n",
    "    'data': io.BytesIO(b'Hello, Python Kintone developer').read()\n",
    "  }\n",
    "}\n",
    "response = kintone.File.upload_file(params)\n",
    "print(response)"
   ],
   "outputs": [
    {
     "output_type": "stream",
     "name": "stdout",
     "text": [
      "{'fileKey': 'ffae8f1b-b36d-4e35-ac36-3dbdb5b6c826'}\n"
     ]
    }
   ],
   "metadata": {}
  },
  {
   "cell_type": "markdown",
   "source": [
    "## Example #8 - Download File"
   ],
   "metadata": {}
  },
  {
   "cell_type": "code",
   "execution_count": 1,
   "source": [
    "import io\n",
    "from kintone_rest_client import Client\n",
    "\n",
    "kintone = Client(\n",
    "  base_url=os.environ.get('KINTONE_BASE_URL'),\n",
    "  auth={\n",
    "    'username': os.environ.get('KINTONE_USERNAME'),\n",
    "    'password': os.environ.get('KINTONE_PASSWORD')\n",
    "  }\n",
    ")\n",
    "file_key = '20210924194537F38439049CD548A890C30A4428C78675148'\n",
    "\n",
    "params={\n",
    "  'fileKey': file_key\n",
    "}\n",
    "response = kintone.File.download_file(params)\n",
    "print(response)"
   ],
   "outputs": [
    {
     "output_type": "stream",
     "name": "stdout",
     "text": [
      "{'data': b'Hello, Python Kintone developer'}\n"
     ]
    }
   ],
   "metadata": {}
  }
 ],
 "metadata": {
  "orig_nbformat": 4,
  "language_info": {
   "name": "python",
   "version": "3.7.10",
   "mimetype": "text/x-python",
   "codemirror_mode": {
    "name": "ipython",
    "version": 3
   },
   "pygments_lexer": "ipython3",
   "nbconvert_exporter": "python",
   "file_extension": ".py"
  },
  "kernelspec": {
   "name": "python3",
   "display_name": "Python 3.7.10 64-bit"
  },
  "interpreter": {
   "hash": "e7370f93d1d0cde622a1f8e1c04877d8463912d04d973331ad4851f04de6915a"
  }
 },
 "nbformat": 4,
 "nbformat_minor": 2
}